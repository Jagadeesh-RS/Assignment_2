{
 "cells": [
  {
   "cell_type": "code",
   "execution_count": null,
   "id": "7fc45ff6-e9af-437a-8c4b-e76e5c954c62",
   "metadata": {},
   "outputs": [],
   "source": [
    "# Q1. How do you comment code in Python? What are the different types of comments?\n",
    "# answer\n",
    "# we can comment code using # and \"\"\" in python\n",
    "# we can use # for single line comment\n",
    "\n",
    "# Single line comment\n",
    "\n",
    "\"\"\"\n",
    "print(\"we can use ### for multiline comment\")\n",
    "\n",
    "#examlpe\n",
    "\n",
    "\"\"\"\n",
    "multiline\n",
    "comment\n",
    "\n",
    "\"\"\"\n"
   ]
  },
  {
   "cell_type": "code",
   "execution_count": null,
   "id": "d61912ab-1e36-4188-8905-82d21c08b911",
   "metadata": {},
   "outputs": [],
   "source": [
    "\"\"\" Q2. What are variables in Python? How do you declare and assign values to variables?\n",
    "\n",
    "variable are used to assign values. There are certain standards to declalre avariable in python\n",
    "\n",
    "1) Variables shall be named in aplhabets with the cobinatioin of numerics (example: var_1 = 10)\n",
    "2) variable name should not start with numemrics  (example: 1_var=10 is incorrect)\n",
    "\n",
    "'\"\"\n"
   ]
  },
  {
   "cell_type": "code",
   "execution_count": null,
   "id": "74e69a14-88b9-4d18-9c96-30ebefe52bc9",
   "metadata": {},
   "outputs": [],
   "source": [
    "\"\"\"\n",
    "Q3. How do you convert one data type to another in Python?\n",
    "\n",
    "we can just type cast a variable to the desire format. \n",
    "example to convert a string to integer\n",
    "\n",
    "a=\"10\"\n",
    "b=int(a)\n",
    "\n",
    "example to type case a tuple to list\n",
    "\n",
    "T1=(1,2,3,4,5,6,7)\n",
    "\n",
    "Lst = list(T1)  \n",
    "\n",
    "\"\"\""
   ]
  },
  {
   "cell_type": "code",
   "execution_count": null,
   "id": "4ca442e5-c13e-4706-8762-1bf608ee4275",
   "metadata": {},
   "outputs": [],
   "source": [
    "\"\"\"\n",
    "Q4. How do you write and execute a Python script from the command line?\n",
    "\n",
    "To run a python script in command terminal\n",
    "step:1 initiate python in terminal by just entering python\n",
    "step:2 enter the file path to run the desired python script\n",
    "example\n",
    "\"c:\\Users\\Computer files\\Desktop\\file.py\"\n",
    "\n",
    "\"\"\""
   ]
  },
  {
   "cell_type": "code",
   "execution_count": null,
   "id": "d8ad2f65-e828-4594-b140-09684a2a4373",
   "metadata": {},
   "outputs": [],
   "source": [
    "\"\"\"\n",
    "Q5 Given a list my_list = [1, 2, 3, 4, 5], write the code to slice the list and obtain the sub-list [2, 3]\n",
    "\"\"\"\n",
    "my_list = [1, 2, 3, 4, 5]\n",
    "sub_list = my_list[2:3]\n",
    "sub_list"
   ]
  },
  {
   "cell_type": "code",
   "execution_count": null,
   "id": "1e2b7f34-9561-47ae-aab7-0f3574333b11",
   "metadata": {},
   "outputs": [],
   "source": [
    "\"\"\"\n",
    "Q6 What is a complex number in mathematics, and how is it represented in Python?\n",
    "\n",
    "The complex numbers in mathamatics used to represent real and imaginary numbers. They are used in applications like geomentry,\n",
    "electronics etc\n",
    "complex numbers are represented as (number)+(number)j\n",
    "example\n",
    "a= 7+8j\n",
    "\"\"\"\n",
    "a=7+8j\n",
    "\n",
    "\n",
    "\n"
   ]
  },
  {
   "cell_type": "code",
   "execution_count": null,
   "id": "40b3cce4-4608-4223-92e7-5319d6d8dec4",
   "metadata": {},
   "outputs": [],
   "source": [
    "\"\"\"\n",
    "Q7 What is the correct way to declare a variable named age and assign the value 25 to it?\n",
    "\n",
    "We can use understandable naming convention for better readability of code. Python automatically understands the data type for the assigned \n",
    "variable\n",
    "for example :\n",
    " age = 25\n",
    " \n",
    "\"\"\"\n",
    "\n",
    "age=25\n",
    " "
   ]
  },
  {
   "cell_type": "code",
   "execution_count": null,
   "id": "e69c1e8a-8555-446a-8f12-73004ac463dc",
   "metadata": {},
   "outputs": [],
   "source": [
    "\"\"\"\n",
    "Q8. Declare a variable named price and assign the value 9.99 to it. What data type does this variable\n",
    "belong to?\n",
    "\n",
    "The data type of the variable will be float, because the value assigned to it have decimal values \n",
    "\"\"\"\n",
    "\n",
    "price=9.99\n",
    "type(price)\n",
    "# float"
   ]
  },
  {
   "cell_type": "code",
   "execution_count": null,
   "id": "dc49a4a1-eb6f-42d4-b617-b1ee465e9144",
   "metadata": {},
   "outputs": [],
   "source": [
    "\"\"\"\n",
    "Q9. Create a variable named name and assign your full name to it as a string. How would you print the\n",
    "value of this variable?\n",
    "\"\"\"\n",
    "\n",
    "Name = \"Jagadeesh Ramakrishna Sridar\"\n",
    "print(Name)"
   ]
  },
  {
   "cell_type": "code",
   "execution_count": null,
   "id": "1341c912-b8c2-484a-a4bd-5544d386d40a",
   "metadata": {},
   "outputs": [],
   "source": [
    "\"\"\"\n",
    "Given the string \"Hello, World!\", extract the substring \"World\".\n",
    "\"\"\"\n",
    "string1=\"Hello world\"\n",
    "l=string1.split(\" \")\n",
    "l[1]\n"
   ]
  },
  {
   "cell_type": "code",
   "execution_count": null,
   "id": "359018b1-736e-45c4-b0e8-0c45493bfa93",
   "metadata": {},
   "outputs": [],
   "source": [
    "\"\"\"\n",
    "Q11. Create a variable named \"is_student\" and assign it a boolean value indicating whether you are\n",
    "currently a student or not.\n",
    "\"\"\"\n",
    "\n",
    "is_student = True\n",
    "is_student"
   ]
  }
 ],
 "metadata": {
  "kernelspec": {
   "display_name": "Python 3 (ipykernel)",
   "language": "python",
   "name": "python3"
  },
  "language_info": {
   "codemirror_mode": {
    "name": "ipython",
    "version": 3
   },
   "file_extension": ".py",
   "mimetype": "text/x-python",
   "name": "python",
   "nbconvert_exporter": "python",
   "pygments_lexer": "ipython3",
   "version": "3.10.8"
  }
 },
 "nbformat": 4,
 "nbformat_minor": 5
}
